{
 "cells": [
  {
   "cell_type": "code",
   "execution_count": null,
   "id": "250eb901-0696-4efd-bb27-1a7e251dfbd1",
   "metadata": {},
   "outputs": [],
   "source": [
    "import pandas as pd\n"
   ]
  },
  {
   "cell_type": "code",
   "execution_count": null,
   "id": "4e97dcdd-3c01-4fba-b621-4a490ea1bc70",
   "metadata": {},
   "outputs": [],
   "source": [
    "df = pd.read_csv(\"train.csv\")\n",
    "df.info()\n",
    "df.head()"
   ]
  },
  {
   "cell_type": "code",
   "execution_count": null,
   "id": "6ae7636b-e856-40f4-b1f1-c881c138aca6",
   "metadata": {},
   "outputs": [],
   "source": [
    "df.drop([\"PassengerId\",\"Name\",\"Ticket\"],axis = 1, inplace = True)"
   ]
  },
  {
   "cell_type": "code",
   "execution_count": null,
   "id": "643a6279-b870-4231-9ae1-8f8e0ed66543",
   "metadata": {},
   "outputs": [],
   "source": [
    "df.nunique()"
   ]
  },
  {
   "cell_type": "code",
   "execution_count": null,
   "id": "ff6a6516-20f8-4a80-941d-da98d029a4aa",
   "metadata": {},
   "outputs": [],
   "source": [
    "df.isna().sum()"
   ]
  },
  {
   "cell_type": "code",
   "execution_count": null,
   "id": "915fd92a-976d-49e9-a383-7931bd4c7df5",
   "metadata": {},
   "outputs": [],
   "source": [
    "if \"Cabin\" in df.columns:\n",
    "    df.drop(\"Cabin\", axis =1, inplace = True)\n",
    "    print(\"Dropped\")\n"
   ]
  },
  {
   "cell_type": "code",
   "execution_count": null,
   "id": "fc0a8687-140e-488b-8982-4940de32bee6",
   "metadata": {},
   "outputs": [],
   "source": [
    "df.loc[df['Embarked'].isna(), 'Embarked']  = df['Embarked'].mode()[0]"
   ]
  },
  {
   "cell_type": "code",
   "execution_count": null,
   "id": "6a5a44e7-4d02-4729-94ae-96a33baccf2b",
   "metadata": {},
   "outputs": [],
   "source": [
    "df.isna().sum()"
   ]
  },
  {
   "cell_type": "code",
   "execution_count": null,
   "id": "ad89b999-1c0c-4c8e-a036-88c377467272",
   "metadata": {},
   "outputs": [],
   "source": [
    "# df[df.Age.isna()]\n",
    "df.loc[df['Age'].isna(), 'Age'] = df['Age'].mode()[0]"
   ]
  },
  {
   "cell_type": "code",
   "execution_count": null,
   "id": "9fd112c8-aa48-4871-8b20-0015cb821260",
   "metadata": {},
   "outputs": [],
   "source": [
    "df\n",
    "df.isna().sum(), df.info()"
   ]
  },
  {
   "cell_type": "code",
   "execution_count": null,
   "id": "4e8d8a2a-e2cd-423f-ac59-62fd1095fb59",
   "metadata": {},
   "outputs": [],
   "source": [
    "from sklearn.preprocessing import LabelEncoder\n",
    "labelEncoder_gender =  LabelEncoder()\n",
    "df[\"Sex\"] = labelEncoder_gender.fit_transform(df[\"Sex\"])\n",
    "df[\"Embarked\"] = LabelEncoder().fit_transform(df[\"Embarked\"])"
   ]
  },
  {
   "cell_type": "code",
   "execution_count": null,
   "id": "d798b455-21f8-4789-9d4c-7ac72a446fdb",
   "metadata": {},
   "outputs": [],
   "source": [
    "df.head()"
   ]
  },
  {
   "cell_type": "code",
   "execution_count": null,
   "id": "60b019bb-0601-456c-8c48-c6908b761d52",
   "metadata": {},
   "outputs": [],
   "source": [
    "target = \"Survived\"\n",
    "X = df.drop(target,axis=1)\n",
    "y =df[target]"
   ]
  },
  {
   "cell_type": "code",
   "execution_count": null,
   "id": "49048eb7-4b4e-4ad7-bf5c-6d3d22e0cc58",
   "metadata": {},
   "outputs": [],
   "source": [
    "X = df[[\"Pclass\",\"Sex\",\"Age\",\"SibSp\",\"Parch\",\"Fare\",\"Embarked\"]]\n",
    "X"
   ]
  },
  {
   "cell_type": "code",
   "execution_count": null,
   "id": "ccfa6716-41a0-485d-8bac-5adb53068874",
   "metadata": {},
   "outputs": [],
   "source": [
    "\n",
    "# from sklearn.model_selection import train_test_split\n",
    "# X_train, X_test, y_train, y_test = train_test_split(X, y, test_size=0.25, random_state=0)\n",
    "# # Feature scaling\n",
    "# from sklearn.preprocessing import StandardScaler\n",
    "# sc = StandardScaler()\n",
    "# X_train = sc.fit_transform(X_train)\n",
    "# X_test = sc.transform(X_test)"
   ]
  },
  {
   "cell_type": "code",
   "execution_count": null,
   "id": "d9fed040-bf36-41d1-bce9-92c16506282f",
   "metadata": {},
   "outputs": [],
   "source": [
    "# Compare classification algorithms\n",
    "from sklearn.model_selection import KFold\n",
    "from sklearn.model_selection import cross_val_score\n",
    "from sklearn.linear_model import LogisticRegression\n",
    "from sklearn.tree import DecisionTreeClassifier\n",
    "from sklearn.neighbors import KNeighborsClassifier\n",
    "from sklearn.ensemble import RandomForestClassifier\n",
    "from sklearn.naive_bayes import GaussianNB\n",
    "from sklearn.svm import SVC"
   ]
  },
  {
   "cell_type": "code",
   "execution_count": null,
   "id": "30198586-2cf0-41fd-a204-49b8c735b3b3",
   "metadata": {},
   "outputs": [],
   "source": [
    "classification_models = []\n",
    "classification_models.append(('Logistic Regression', LogisticRegression(solver=\"liblinear\")))\n",
    "classification_models.append(('K Nearest Neighbor', KNeighborsClassifier(n_neighbors=5, metric=\"minkowski\",p=2)))\n",
    "classification_models.append(('Kernel SVM', SVC(kernel = 'rbf',gamma='scale')))\n",
    "classification_models.append(('Naive Bayes', GaussianNB()))\n",
    "classification_models.append(('Decision Tree', DecisionTreeClassifier(criterion = \"entropy\")))\n"
   ]
  },
  {
   "cell_type": "markdown",
   "id": "6e84ba51-73b3-4624-ad9f-6b64cc148746",
   "metadata": {},
   "source": [
    "# Accuracy"
   ]
  },
  {
   "cell_type": "code",
   "execution_count": null,
   "id": "9679b315-cc86-40cd-8fdb-4fef731ab2a2",
   "metadata": {},
   "outputs": [],
   "source": [
    "for name, model in classification_models:\n",
    "  kfold = KFold(n_splits=10, random_state=(7), shuffle=(True))\n",
    "  result = cross_val_score(model, X, y, cv=kfold, scoring='accuracy')\n",
    "  # print('Results : ', result)\n",
    "  print(\"%s: Mean Accuracy = %.2f%% - SD Accuracy = %.2f%%\" % (name, result.mean()*100, result.std()*100))"
   ]
  },
  {
   "cell_type": "markdown",
   "id": "c0dd8491-84fb-438c-8e42-d19c5aca4a7b",
   "metadata": {},
   "source": [
    "# Precision"
   ]
  },
  {
   "cell_type": "code",
   "execution_count": null,
   "id": "56fe5ffe-57aa-4742-bc2f-a4760bfc5230",
   "metadata": {},
   "outputs": [],
   "source": [
    "for name, model in classification_models:\n",
    "  kfold = KFold(n_splits=10, random_state=(7), shuffle=(True))\n",
    "  result = cross_val_score(model, X, y, cv=kfold, scoring='precision')\n",
    "  # print('Results : ', result)\n",
    "  print(\"%s: Mean Precision = %.2f%% - SD Precision = %.2f%%\" % (name, result.mean()*100, result.std()*100))"
   ]
  },
  {
   "cell_type": "markdown",
   "id": "a93687b1-4ef0-47b9-8525-8c88e36deb34",
   "metadata": {},
   "source": [
    "# Recall"
   ]
  },
  {
   "cell_type": "code",
   "execution_count": null,
   "id": "06177b8d-2bbc-4515-a112-871e1330f85b",
   "metadata": {},
   "outputs": [],
   "source": [
    "for name, model in classification_models:\n",
    "  kfold = KFold(n_splits=10, random_state=(7), shuffle=(True))\n",
    "  result = cross_val_score(model, X, y, cv=kfold, scoring='recall')\n",
    "  # print('Results : ', result)\n",
    "  print(\"%s: Mean Recall = %.2f%% - SD Recall = %.2f%%\" % (name, result.mean()*100, result.std()*100))"
   ]
  },
  {
   "cell_type": "code",
   "execution_count": null,
   "id": "fc31a27b-2f9a-405a-b39e-e4b7ebedfa28",
   "metadata": {},
   "outputs": [],
   "source": []
  },
  {
   "cell_type": "code",
   "execution_count": null,
   "id": "df897966-1c3e-4d34-b804-2a4ba4e651e8",
   "metadata": {},
   "outputs": [],
   "source": []
  }
 ],
 "metadata": {
  "kernelspec": {
   "display_name": "Python 3 [3.10]",
   "language": "python",
   "name": "python3"
  },
  "language_info": {
   "codemirror_mode": {
    "name": "ipython",
    "version": 3
   },
   "file_extension": ".py",
   "mimetype": "text/x-python",
   "name": "python",
   "nbconvert_exporter": "python",
   "pygments_lexer": "ipython3",
   "version": "3.10.2"
  }
 },
 "nbformat": 4,
 "nbformat_minor": 5
}
