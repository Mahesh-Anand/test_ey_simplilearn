{
 "cells": [
  {
   "cell_type": "markdown",
   "metadata": {},
   "source": [
    "Task : \n",
    "\n",
    "Write a function which takes in multiple names as a list. The function should return the pair of names in Capital and the length of the name. For example\n",
    "\n",
    "m\n",
    "Input : [‘Ravi’, ‘Sanjeev’, ‘John’]\n",
    "\n",
    "Output : [(‘RAVI’, 4), (‘SANJEEV’, 7), (‘JOHN’, 4)]\n",
    "\n",
    "\n",
    "Write a function to get only the numbers in a sentence like ‘In 1984 there were 13 instances of a protest with over 1000 people attending’\n",
    "\n",
    "\n",
    "Final Task \n",
    "\n",
    "Let us build some application\n",
    "\n",
    "Assume you are asked to build an inventory system of grocery items at a grocery store. \n",
    "\n",
    "Assuming your store can have some 20 unique items with unique ID's create a dictionary of Item ID vs item details such as MRP, Quantity, Size etc\n",
    "\n",
    "At any time we need to keep a count of the items in the store. \n",
    "\n",
    "Build a menu where you can show different items along with its details. Allow the user\n",
    "to purchase any item and place an order. Once the user places an order ensure that you have adequate \n",
    "quantity of items and if yes then create a bill of purchased items and write them to a file against an order ID. Provide him another chance to purchase the remaining items until he exits\n"
   ]
  },
  {
   "cell_type": "code",
   "execution_count": 1,
   "metadata": {},
   "outputs": [
    {
     "data": {
      "text/plain": [
       "[('RAVI', 4), ('SANJEEV', 7), ('JOHN', 4)]"
      ]
     },
     "execution_count": 1,
     "metadata": {},
     "output_type": "execute_result"
    }
   ],
   "source": [
    "# Task 1\n",
    "name_list  = ['Ravi', 'Sanjeev', 'John']\n",
    "\n",
    "[(name.upper(),len(name)) for name in name_list]"
   ]
  },
  {
   "cell_type": "code",
   "execution_count": 2,
   "metadata": {},
   "outputs": [
    {
     "data": {
      "text/plain": [
       "[1984, 13, 1000]"
      ]
     },
     "execution_count": 2,
     "metadata": {},
     "output_type": "execute_result"
    }
   ],
   "source": [
    "# Task 2\n",
    "sent = 'In 1984 there were 13 instances of a protest with over 1000 people attending'\n",
    "\n",
    "[int(word) for word in sent.split(\" \") if word.isnumeric()]"
   ]
  },
  {
   "cell_type": "code",
   "execution_count": 3,
   "metadata": {},
   "outputs": [],
   "source": [
    "# # Task 3\n",
    "\n",
    "# unique_items = {}\n",
    "# all_order_details ={}\n",
    "# order_id = 0\n",
    "# order_dict = {}\n",
    "# mrp =109\n",
    "# qty = 100\n",
    "# size = 10\n",
    "# for id_no in range(20):\n",
    "    \n",
    "#     unique_items[id_no] = {\n",
    "        \n",
    "#         'MRP': mrp, \n",
    "#         'Item_Name':f\"Item_{id_no}\",\n",
    "#         'Quantity': qty,\n",
    "#         'Size': size\n",
    "#     }\n",
    "#     mrp+=109\n",
    "#     qty+= 100\n",
    "#     size+= 10\n",
    "\n",
    "# # unique_items"
   ]
  },
  {
   "cell_type": "code",
   "execution_count": 4,
   "metadata": {},
   "outputs": [],
   "source": [
    "# def selection():\n",
    "#     selected_id = int(input(\"Enter the ID of the product from the above    :   \"))\n",
    "#     return selected_id\n",
    "\n",
    "# def order_creation(unique_items,selected_id,order_num):\n",
    "#     size = unique_items[selected_id]['Size']\n",
    "#     if size:\n",
    "#         order_dict[order_num] = {\n",
    "#             \"Item_ID\":selected_id,\n",
    "#             \"Item_Name\":unique_items[selected_id][\"Item_Name\"],\n",
    "#             \"MRP\":unique_items[selected_id][\"MRP\"]\n",
    "#         }\n",
    "                                \n",
    "#         unique_items[selected_id]['Size']-=1\n",
    "#         order_num+= 1\n",
    "#         print(order_dict)#unique_items[selected_id])\n",
    "        \n",
    "#     return unique_items,order_dict,order_num\n",
    "\n",
    "# order  = True\n",
    "# order_num = 0\n",
    "# display(unique_items)\n",
    "# while order:\n",
    "#     selected_id = selection()\n",
    "#     unique_items,order_dict,order_num = order_creation(unique_items,selected_id,order_num) \n",
    "    \n",
    "#     selection_continue = int(input(\"Do you want to buy more, press 1 for buy or 0 for order creation\"))\n",
    "#     if selection_continue ==1:\n",
    "#         order = True\n",
    "#     else:\n",
    "#         order = False\n",
    "#         order_id+=1\n",
    "\n",
    "# all_order_details[order_id]  = order_dict\n",
    "# all_order_details"
   ]
  },
  {
   "cell_type": "markdown",
   "metadata": {},
   "source": [
    "# Task 3 modified"
   ]
  },
  {
   "cell_type": "code",
   "execution_count": 5,
   "metadata": {},
   "outputs": [],
   "source": [
    "def Item_selection():\n",
    "    select_state=True\n",
    "    selected_item_list = []\n",
    "    selected_item_qty_list = []\n",
    "    selected_item_mrp_list =[]\n",
    "    \n",
    "    while select_state:\n",
    "        try:\n",
    "            selected_item_id  = input(\"Enter Item Id from above for purchase or type 'place' to place order\")\n",
    "            if selected_item_id == 'place':\n",
    "                select_state = False\n",
    "                return selected_item_list,selected_item_qty_list,selected_item_mrp_list\n",
    "            else:\n",
    "                selected_item_id = int(selected_item_id)\n",
    "                \n",
    "            \n",
    "\n",
    "\n",
    "                 \n",
    "        except Exception as e:\n",
    "            print(e)\n",
    "            print(\"Type only Item Id from above\")\n",
    "        else:\n",
    "            if selected_item_id in unique_items.keys():\n",
    "                selected_item_qty = int(input(f\"Enter Quantity for {unique_items[selected_item_id]['Item_Name']}\"))\n",
    "                selected_item_mrp = unique_items[selected_item_id]['MRP']\n",
    "                while selected_item_qty>unique_items[0]['Quantity']:\n",
    "                    print(f\"Sorry only {unique_items[0]['Quantity']} is left\")\n",
    "                    selected_item_qty = int(input(f\"Enter Quantity for {unique_items[0]['Item_Name']}\"))\n",
    "\n",
    "\n",
    "                # select_state = False\n",
    "                selected_item_list.append(unique_items[selected_item_id]['Item_Name'])\n",
    "                selected_item_mrp_list.append(unique_items[selected_item_id]['MRP'])\n",
    "                selected_item_qty_list.append(selected_item_qty)\n",
    "            else:\n",
    "                print(\"Valid ID only\")"
   ]
  },
  {
   "cell_type": "code",
   "execution_count": 6,
   "metadata": {},
   "outputs": [],
   "source": [
    "\n",
    "# Task 3\n",
    "\n",
    "unique_items = {}\n",
    "all_order_details ={}\n",
    "order_id = 0\n",
    "order_dict = {}\n",
    "mrp =109\n",
    "qty = 100\n",
    "size = 10\n",
    "string  = \"Order No,Item name,Qty purchased,MRP,Total Price\\n\"\n",
    "\n",
    "for id_no in range(20):\n",
    "    \n",
    "    unique_items[id_no] = {\n",
    "        \n",
    "        'Item_Name':f\"Item_{id_no}\",\n",
    "        'MRP': mrp, \n",
    "        'Quantity': qty,\n",
    "        'Size': size\n",
    "    }\n",
    "    mrp+=109\n",
    "    qty+= 100\n",
    "    size+= 10\n"
   ]
  },
  {
   "cell_type": "code",
   "execution_count": 9,
   "metadata": {},
   "outputs": [
    {
     "name": "stdout",
     "output_type": "stream",
     "text": [
      "ID ITEM NAME MRP\n",
      "0 Item_0 109\n",
      "1 Item_1 218\n",
      "2 Item_2 327\n",
      "3 Item_3 436\n",
      "4 Item_4 545\n",
      "5 Item_5 654\n",
      "6 Item_6 763\n",
      "7 Item_7 872\n",
      "8 Item_8 981\n",
      "9 Item_9 1090\n",
      "10 Item_10 1199\n",
      "11 Item_11 1308\n",
      "12 Item_12 1417\n",
      "13 Item_13 1526\n",
      "14 Item_14 1635\n",
      "15 Item_15 1744\n",
      "16 Item_16 1853\n",
      "17 Item_17 1962\n",
      "18 Item_18 2071\n",
      "19 Item_19 2180\n"
     ]
    },
    {
     "name": "stdin",
     "output_type": "stream",
     "text": [
      "Enter Item Id from above for purchase or type 'place' to place order 5\n",
      "Enter Quantity for Item_5 78\n",
      "Enter Item Id from above for purchase or type 'place' to place order place\n"
     ]
    },
    {
     "name": "stdout",
     "output_type": "stream",
     "text": [
      "Order No,Item name,Qty purchased,MRP,Total Price\n",
      "1,Item_0 ,1,109,109 \n",
      "1,Item_2 ,34,327,11118 \n",
      "1,Item_4 ,55,545,29975 \n",
      "2,Item_5 ,78,654,51012 \n",
      "\n"
     ]
    }
   ],
   "source": [
    "print(\"ID\", \"ITEM NAME\",\"MRP\")\n",
    "for key in unique_items:\n",
    "    print(key,unique_items[key]['Item_Name'],unique_items[key]['MRP'])\n",
    "items,items_qty,items_mrp = Item_selection()\n",
    "for item in range(len(items)):\n",
    "    \n",
    "    string = string+f\"{order_id},{items[item]} ,{items_qty[item]},{items_mrp[item]},{items_qty[item]*items_mrp[item]} \\n\"\n",
    "print(string)\n",
    "order_id+=1\n",
    "with open('purchase.txt', 'w') as file:\n",
    "    print(string, file = file)\n"
   ]
  },
  {
   "cell_type": "code",
   "execution_count": null,
   "metadata": {},
   "outputs": [],
   "source": []
  }
 ],
 "metadata": {
  "kernelspec": {
   "display_name": "Python 3",
   "language": "python",
   "name": "python3"
  },
  "language_info": {
   "codemirror_mode": {
    "name": "ipython",
    "version": 3
   },
   "file_extension": ".py",
   "mimetype": "text/x-python",
   "name": "python",
   "nbconvert_exporter": "python",
   "pygments_lexer": "ipython3",
   "version": "3.7.6"
  }
 },
 "nbformat": 4,
 "nbformat_minor": 4
}
